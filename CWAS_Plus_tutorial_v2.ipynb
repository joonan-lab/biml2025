{
  "cells": [
    {
      "cell_type": "markdown",
      "metadata": {
        "id": "fg78PHuyprey"
      },
      "source": [
        "# CWAS-Plus tutorial"
      ]
    },
    {
      "cell_type": "markdown",
      "metadata": {
        "id": "NMm1NiMadnjl"
      },
      "source": [
        "## Introduction\n",
        "\n",
        "Welcome to the tutorial of CWAS-Plus.\n",
        "\n",
        "- The noncoding genome contains regulatory elements that play a critical role in human development. Due to advancements in whole genome sequencing (WGS) technologies, we are now able to explore mutations within these regulatory elements.\n",
        "\n",
        "- To perform a genome-wide evaluation of noncoding mutations using WGS data, an analytic framework that enables fast and easy integration of diverse functional annotations to the WGS data and empowers multiple testing comparisons is essential.\n",
        "\n",
        "- Recently, we introduced category-wide association study (CWAS), a novel statistical framework to identify noncoding association from WGS data. This methods creates multiple categories based on genomic and functional annotations and conducts genetic association tests on categories.\n",
        "\n",
        "- In this tutorial, we will introduce **CWAS-Plus**, a Python package that enhances functionality and usability of the CWAS framework. With CWAS-Plus, users can effectively detect noncoding associations and perform efficient multiple hypotheses testing.\n",
        "\n",
        "**CWAS-Plus workflow**\n",
        "1. Annotation & categorization\n",
        "2. Burden test\n",
        "3. Risk score analysis\n",
        "4. Burden shift analysis\n",
        "5. Find the number of effective tests\n",
        "6. Detecting Association With Networks (DAWN) analysis"
      ]
    },
    {
      "cell_type": "markdown",
      "metadata": {
        "id": "IwgsV0_l-b0K"
      },
      "source": [
        "## CWAS-Plus requirements\n"
      ]
    },
    {
      "cell_type": "markdown",
      "metadata": {
        "id": "t1883RuJ_31V"
      },
      "source": [
        "### Install required tools"
      ]
    },
    {
      "cell_type": "code",
      "execution_count": null,
      "metadata": {},
      "outputs": [],
      "source": [
        "import os\n",
        "os.environ['R_HOME'] = '/Users/yjkim/miniconda3/envs/test/lib/R'"
      ]
    },
    {
      "cell_type": "code",
      "execution_count": null,
      "metadata": {
        "id": "k_dtNcuF6cpY"
      },
      "outputs": [],
      "source": [
        "import rpy2.rinterface_lib.callbacks\n",
        "my_callback = lambda *args: None\n",
        "rpy2.rinterface_lib.callbacks.consolewrite_warnerror = my_callback"
      ]
    },
    {
      "cell_type": "code",
      "execution_count": null,
      "metadata": {},
      "outputs": [],
      "source": [
        "from rpy2.robjects.packages import importr\n",
        "utils = importr('utils')"
      ]
    },
    {
      "cell_type": "code",
      "execution_count": null,
      "metadata": {},
      "outputs": [],
      "source": [
        "utils.install_packages(\"remotes\", repos=\"https://cloud.r-project.org\", quietly=True)"
      ]
    },
    {
      "cell_type": "code",
      "execution_count": null,
      "metadata": {},
      "outputs": [],
      "source": [
        "import rpy2.robjects as ro\n",
        "\n",
        "# Install the Matrix package, specifically version 1.6-1\n",
        "ro.r('install.packages(\"Matrix\")')\n",
        "ro.r('remotes::install_version(\"Matrix\", version = \"1.6-1\")')"
      ]
    },
    {
      "cell_type": "code",
      "execution_count": null,
      "metadata": {},
      "outputs": [],
      "source": [
        "utils.install_packages('survival', repos=\"https://cloud.r-project.org\", quietly=True)"
      ]
    },
    {
      "cell_type": "code",
      "execution_count": null,
      "metadata": {},
      "outputs": [],
      "source": [
        "import os\n",
        "\n",
        "# Set the environment variable for the notebook session\n",
        "os.environ['PKG_CPPFLAGS'] = '-DHAVE_WORKING_LOG1P'"
      ]
    },
    {
      "cell_type": "code",
      "execution_count": null,
      "metadata": {
        "colab": {
          "base_uri": "https://localhost:8080/"
        },
        "id": "xa_1CMGUlELh",
        "outputId": "2d6dce36-1270-4d0e-f53e-7a1af03ef19c"
      },
      "outputs": [],
      "source": [
        "utils.install_packages('glmnet', repos=\"https://cloud.r-project.org\", quietly=True)"
      ]
    },
    {
      "cell_type": "markdown",
      "metadata": {},
      "source": [
        "### Create pseudo VEP for configuration process\n",
        "\n",
        "- CWAS-Plus checks whether 'VEP' is installed for proper configuration. Hence, for quick skipping annotation process, we will create pseudo VEP."
      ]
    },
    {
      "cell_type": "markdown",
      "metadata": {},
      "source": [
        "Install tabix and copy tabix to /usr/local/bin/vep"
      ]
    },
    {
      "cell_type": "code",
      "execution_count": null,
      "metadata": {},
      "outputs": [],
      "source": [
        "!sudo apt-get install tabix\n",
        "!which tabix\n",
        "!pip install zarr -q\n",
        "\n",
        "# Create fake VEP as we are skipping annotation process, which uses VEP\n",
        "!cp /usr/local/bin/tabix /usr/local/bin/vep"
      ]
    },
    {
      "cell_type": "code",
      "execution_count": null,
      "metadata": {
        "colab": {
          "base_uri": "https://localhost:8080/"
        },
        "id": "N1B8Fi1p_3F8",
        "outputId": "1b8395d1-5450-4b19-e004-f72cacc46bb7"
      },
      "outputs": [],
      "source": [
        "# Import modules for result interpretation\n",
        "import pandas as pd\n",
        "import polars as pl\n",
        "import pandas as pd\n",
        "import matplotlib.pyplot as plt\n",
        "import numpy as np\n",
        "import seaborn as sns\n",
        "import zarr"
      ]
    },
    {
      "cell_type": "markdown",
      "metadata": {
        "id": "kOblt9MPUyse"
      },
      "source": [
        "### Input data\n",
        "CWAS-Plus requires a list of variants and a list of samples containing the phenotype information. Adjustment factors for each sample can also be used if provided.\n",
        "\n",
        "For this tutorial, we provide example input data obtained from [An et al., (2018)](https://www.ncbi.nlm.nih.gov/pmc/articles/PMC6432922/)."
      ]
    },
    {
      "cell_type": "code",
      "execution_count": null,
      "metadata": {},
      "outputs": [],
      "source": [
        "import os\n",
        "\n",
        "# Change directory to the home directory\n",
        "os.chdir(os.environ['HOME'])"
      ]
    },
    {
      "cell_type": "code",
      "execution_count": null,
      "metadata": {
        "colab": {
          "base_uri": "https://localhost:8080/"
        },
        "id": "e8juCBrnVPK_",
        "outputId": "3f536001-08f1-465b-de0d-e30d63c99a9d"
      },
      "outputs": [],
      "source": [
        "!git clone https://github.com/joonan-lab/cwas-input-example.git"
      ]
    },
    {
      "cell_type": "markdown",
      "metadata": {
        "id": "jJzziam6VUfu"
      },
      "source": [
        "In the example data, there are three inputs.\n",
        "\n",
        "- **de_novo_variants.vcf**\n",
        "  - A list of variants\n",
        "- **samples.txt**\n",
        "  - A list of samples containing two columns, *SAMPLE* and *PHENOTYPE*.\n",
        "- **adj_factors.txt**\n",
        "  - A list of adjustment factors containing two columns, *SAMPLE* and *AdjustFactor*."
      ]
    },
    {
      "cell_type": "code",
      "execution_count": null,
      "metadata": {
        "colab": {
          "base_uri": "https://localhost:8080/"
        },
        "id": "AukYnF_bVQnI",
        "outputId": "ccb2f156-89fe-4000-ad00-b62b0076eeaf"
      },
      "outputs": [],
      "source": [
        "%cd cwas-input-example\n",
        "!ls -lhtr"
      ]
    },
    {
      "cell_type": "markdown",
      "metadata": {
        "id": "dylkery3WJxw"
      },
      "source": [
        "Check how the input files are formatted from below."
      ]
    },
    {
      "cell_type": "code",
      "execution_count": null,
      "metadata": {
        "colab": {
          "base_uri": "https://localhost:8080/",
          "height": 206
        },
        "id": "ceA9wCAa-1CO",
        "outputId": "88c4440a-b83c-4075-d69a-7988ca3ef2fa"
      },
      "outputs": [],
      "source": [
        "vcf = pd.read_table('de_novo_variants.vcf')\n",
        "vcf.head(5)"
      ]
    },
    {
      "cell_type": "code",
      "execution_count": null,
      "metadata": {
        "colab": {
          "base_uri": "https://localhost:8080/",
          "height": 206
        },
        "id": "mtbR-Z9V_Lh3",
        "outputId": "33354831-3e93-4cb8-9043-1ecb8ccd4306"
      },
      "outputs": [],
      "source": [
        "sample_info = pd.read_table('samples.txt')\n",
        "sample_info.head(5)"
      ]
    },
    {
      "cell_type": "code",
      "execution_count": null,
      "metadata": {
        "colab": {
          "base_uri": "https://localhost:8080/",
          "height": 206
        },
        "id": "-jEiw3PZWEjw",
        "outputId": "a0a069a7-6f5b-4951-86de-746de5499c26"
      },
      "outputs": [],
      "source": [
        "# The file contains 'SAMPLE' and 'AdjustFactor' column. The 'AdjustFactor' will be used to adjust the number of variants for each sample.\n",
        "adj_factor = pd.read_table('adj_factors.txt')\n",
        "adj_factor.head(5)"
      ]
    },
    {
      "cell_type": "markdown",
      "metadata": {
        "id": "hTl0IuGYWo9s"
      },
      "source": [
        "### Annotation datasets\n",
        "\n",
        "CWAS-Plus creates a category with a combination of five domains.\n",
        "\n",
        "- **Variant type**\n",
        "  - Variant type refers to the type of changes of the variant.\n",
        "- **GENCODE**\n",
        "  - GENCODE is gene definition based on the location of the variant relative to genes. Domain includes coding domain, such as protein-truncating variants (PTVs), frameshift indels, missense, damaging missense, in frame indels, silent variants and noncoding domain, such as composed of promoter, UTR, intergenic, intron, long noncoding RNA, splice site non-canonical, and others.\n",
        "- **Gene set**\n",
        "  - Gene set domain comprises lists of disease-relevant genes. The dataset should be provided in text format.\n",
        "- **Functional annotation**\n",
        "  - Functional annotation is a domain for genomic intervals representing functions. For this domain, regions associated with epigenetic modifications or regulatory elements can be utilized. The datasets should be provided in bed format.\n",
        "- **Functional score**\n",
        "  - Functional scores represent regions score metrics related to specific genomic features, such as conservation or pathogenicity. This domain use regions that belong to specific score intervals. This information is processed binary, whether the region is above the cutoff or not. The datasets should be provided in bed format.\n",
        "\n",
        "Users can provide customized annotation datasets to create categories. Each category serves as a hypothesis for conducting association tests, thereby enabling users to curate their own datasets tailored to the specific associations they wish to test.\n",
        "\n",
        "For this tutorial, download the example set."
      ]
    },
    {
      "cell_type": "code",
      "execution_count": null,
      "metadata": {
        "colab": {
          "base_uri": "https://localhost:8080/"
        },
        "id": "VqsALTFj-hLl",
        "outputId": "63e90296-9e4a-4cb7-8843-f9bae3a5eb8a"
      },
      "outputs": [],
      "source": [
        "os.chdir(os.environ['HOME'])\n",
        "!git clone https://github.com/randrover/cwas_annotation_example.git\n",
        "%cd cwas_annotation_example\n",
        "!mv vep .vep"
      ]
    },
    {
      "cell_type": "markdown",
      "metadata": {
        "id": "eLtkdx_WW3A6"
      },
      "source": [
        "The example set contains two types of data.\n",
        "\n",
        "- File for configuration\n",
        "  - **configuration.txt**\n",
        "- Files for creating categories\n",
        "  - **annotation_keys.yaml**\n",
        "  - **gene_matrix.txt**\n",
        "  - **annotation_keys.yaml**\n",
        "  - **BED files**\n",
        "\n",
        "\n",
        "The **configuration.txt** file is for setting the environmental variables for CWAS-Plus. It contains the location of annotation datasets and VEP resources.\n",
        "\n",
        "After installing CWAS-Plus, a file with the same name will be created in the working directory. We provide this file in the example set for user's convenience.\n",
        "We will copy this file to the working directory after CWAS-Plus installation."
      ]
    },
    {
      "cell_type": "code",
      "execution_count": null,
      "metadata": {
        "colab": {
          "base_uri": "https://localhost:8080/"
        },
        "id": "Ay8aIZHNXaQU",
        "outputId": "9fb2c6ab-177a-4f6e-f022-46190d1d5b34"
      },
      "outputs": [],
      "source": [
        "!cat configuration.txt"
      ]
    },
    {
      "cell_type": "markdown",
      "metadata": {},
      "source": [
        "Change the PATH of `ANNOTATION_DATA_DIR=/content/cwas_annotation_example` to the exact PATH of `cwas_annotation_example`. (This is required for configuration)"
      ]
    },
    {
      "cell_type": "markdown",
      "metadata": {
        "id": "tAYpOgSEXfyC"
      },
      "source": [
        "The **annotation_keys.yaml** contains the information of datasets for `functional annotation` and `functional scor`e. File are listed with the name that represent them in further analyses."
      ]
    },
    {
      "cell_type": "code",
      "execution_count": null,
      "metadata": {
        "colab": {
          "base_uri": "https://localhost:8080/"
        },
        "id": "XrbSfq9nYa9p",
        "outputId": "cf8f7a03-9560-4062-8ab7-5148f64fffda"
      },
      "outputs": [],
      "source": [
        "!cat annotation_keys.yaml | head -6"
      ]
    },
    {
      "cell_type": "markdown",
      "metadata": {
        "id": "wbcOhNqS8l5X"
      },
      "source": [
        "The **gene_matrix.txt** contains a list of gene sets. This gene sets will be contained under the `gene set` domain."
      ]
    },
    {
      "cell_type": "code",
      "execution_count": null,
      "metadata": {
        "colab": {
          "base_uri": "https://localhost:8080/",
          "height": 206
        },
        "id": "SKQnrCNG_vHu",
        "outputId": "8a9b2b1d-1405-4e56-9485-45d509ad5097"
      },
      "outputs": [],
      "source": [
        "# The file contains columns representing each gene set used for gene set domain. The values in columns indicate whether the gene belong to the gene set (1) or not (0).\n",
        "gene_matrix = pd.read_table('gene_matrix.txt')\n",
        "gene_matrix.head(5)"
      ]
    },
    {
      "cell_type": "markdown",
      "metadata": {
        "id": "Pvkg0twzZG4Q"
      },
      "source": [
        "Bed files that are listed in **annotation_keys.yaml** are also in this directory.\n",
        "\n",
        "However, as we are skipping the annotation process, we are using fake files that have no content. This will prevent errors while CWAS-Plus checks whether the files exist."
      ]
    },
    {
      "cell_type": "code",
      "execution_count": null,
      "metadata": {
        "colab": {
          "base_uri": "https://localhost:8080/"
        },
        "id": "fweFhoLWW30l",
        "outputId": "c16f329a-5727-495a-c7ed-0cb06c3a9e44"
      },
      "outputs": [],
      "source": [
        "os.chdir(os.environ['HOME'])\n",
        "%cd cwas_annotation_example\n",
        "!ls *bed.gz"
      ]
    },
    {
      "cell_type": "markdown",
      "metadata": {
        "id": "g9OwgfaY8YBm"
      },
      "source": [
        "## Install CWAS-Plus"
      ]
    },
    {
      "cell_type": "code",
      "execution_count": null,
      "metadata": {
        "colab": {
          "base_uri": "https://localhost:8080/"
        },
        "id": "Fa8iN_jQ9LjX",
        "outputId": "7aa11c67-6826-4b2d-9648-d8cf9b6f270e"
      },
      "outputs": [],
      "source": [
        "!pip install cwas"
      ]
    },
    {
      "cell_type": "markdown",
      "metadata": {
        "id": "p06c9F1D91hc"
      },
      "source": [
        "Install package through `pip install`."
      ]
    },
    {
      "cell_type": "code",
      "execution_count": null,
      "metadata": {
        "colab": {
          "base_uri": "https://localhost:8080/"
        },
        "id": "YToOWy1KvCsX",
        "outputId": "6f58e90e-21e4-436e-e7d0-68156bbdf105"
      },
      "outputs": [],
      "source": [
        "os.chdir(os.environ['HOME'])\n",
        "# '-w' option specify the path of the working directory of CWAS-Plus. Symlinks of annotation datsets will be stored here.\n",
        "!cwas start -w .cwas"
      ]
    },
    {
      "cell_type": "code",
      "execution_count": null,
      "metadata": {
        "id": "YPLcKfs3xGIU"
      },
      "outputs": [],
      "source": [
        "# Copy the configuration file (that is already filled) to the working directory\n",
        "!cp cwas_annotation_example/configuration.txt .cwas"
      ]
    },
    {
      "cell_type": "markdown",
      "metadata": {
        "id": "OKjMTOfjAyuf"
      },
      "source": [
        "Now start configuration. Users can force to overwrite with `-f` option."
      ]
    },
    {
      "cell_type": "code",
      "execution_count": null,
      "metadata": {
        "colab": {
          "base_uri": "https://localhost:8080/"
        },
        "id": "w5ck7e6MvGQy",
        "outputId": "aec93ba3-ed7b-4a96-f17a-86d5ec78c51b"
      },
      "outputs": [],
      "source": [
        "!cwas configuration -f"
      ]
    },
    {
      "cell_type": "markdown",
      "metadata": {
        "id": "unbWgPehaDWA"
      },
      "source": [
        "Also create output directory to save the results."
      ]
    },
    {
      "cell_type": "code",
      "execution_count": null,
      "metadata": {
        "colab": {
          "base_uri": "https://localhost:8080/"
        },
        "id": "IodZZqHaaDza",
        "outputId": "75e168ad-614b-4d95-aedb-104bc5aa2d08"
      },
      "outputs": [],
      "source": [
        "os.chdir(os.environ['HOME'])\n",
        "!mkdir cwas_output"
      ]
    },
    {
      "cell_type": "markdown",
      "metadata": {
        "id": "Y3shs7tYmLLo"
      },
      "source": [
        "## 1. Annotation & categorization\n",
        "\n",
        "Now we are starting CWAS-Plus anlayses.\n",
        "\n",
        "First of all, variants are annotated and categorized to create categories based on genomic and functional annotations. We will skip the **annotation** process and load annotated variants."
      ]
    },
    {
      "cell_type": "code",
      "execution_count": null,
      "metadata": {
        "colab": {
          "base_uri": "https://localhost:8080/"
        },
        "id": "XTd74xDO6zu8",
        "outputId": "1bce7b44-84dd-4e06-fdf1-b0cb039dcf27"
      },
      "outputs": [],
      "source": [
        "%cd cwas_output\n",
        "!wget -O de_novo_variants.annotated.vcf.gz \"https://www.dropbox.com/scl/fi/n7zjumfpyxevk893jyqax/de_novo_variants.annotated.vcf.gz?rlkey=5mo92pjzdut1xvmcd0m5mdp1t&st=gfuswfn3&dl=0\""
      ]
    },
    {
      "cell_type": "code",
      "execution_count": null,
      "metadata": {
        "colab": {
          "base_uri": "https://localhost:8080/",
          "height": 206
        },
        "id": "ZbiCMSHdBeCW",
        "outputId": "23ba2200-65ad-4821-e03a-991da543ff24"
      },
      "outputs": [],
      "source": [
        "# Annotations are in the INFO field.\n",
        "annotated_vcf = pd.read_table('de_novo_variants.annotated.vcf.gz', skiprows = 10)\n",
        "annotated_vcf.head(5)"
      ]
    },
    {
      "cell_type": "code",
      "execution_count": null,
      "metadata": {},
      "outputs": [],
      "source": [
        "annotated_vcf['INFO'][1]"
      ]
    },
    {
      "cell_type": "markdown",
      "metadata": {
        "id": "kXNuUk8WBlGq"
      },
      "source": [
        "In **categorization**, we will create categories based on five domains and allocate variants to each category."
      ]
    },
    {
      "cell_type": "code",
      "execution_count": null,
      "metadata": {
        "colab": {
          "base_uri": "https://localhost:8080/"
        },
        "id": "AZjYhM4A5Hmj",
        "outputId": "d5fd613b-c81f-489f-d2f8-7a2f6c4ea3ae"
      },
      "outputs": [],
      "source": [
        "os.chdir(os.environ['HOME'])\n",
        "# Users can specify the number of worker processes to use with '-p' option. This option is constantly used in further analyses.\n",
        "!cwas categorization -i cwas_output/de_novo_variants.annotated.vcf.gz -o_dir cwas_output/ -p 2"
      ]
    },
    {
      "cell_type": "markdown",
      "metadata": {
        "id": "sYWX-EqGFO5-"
      },
      "source": [
        "The index `SAMPLE` contains sample IDs. Other columns represent each category and the number of variants each sample has within the category."
      ]
    },
    {
      "cell_type": "code",
      "execution_count": null,
      "metadata": {
        "id": "LfzfYot3Tt5r"
      },
      "outputs": [],
      "source": [
        "root = zarr.open('cwas_output/de_novo_variants.categorization_result.zarr', mode = 'r')\n",
        "categorized = pd.DataFrame(root['data'],\n",
        "                           index=root['metadata'].attrs['sample_id'],\n",
        "                           columns=root['metadata'].attrs['category'])\n",
        "categorized.index.name = 'SAMPLE'"
      ]
    },
    {
      "cell_type": "code",
      "execution_count": null,
      "metadata": {
        "colab": {
          "base_uri": "https://localhost:8080/",
          "height": 238
        },
        "id": "PSUApiRkC5uW",
        "outputId": "8ef11a95-324f-49c5-c418-62a9ffb19999"
      },
      "outputs": [],
      "source": [
        "categorized.iloc[0:5,0:5]"
      ]
    },
    {
      "cell_type": "markdown",
      "metadata": {
        "id": "aQJprArNmnqt"
      },
      "source": [
        "## Burden test\n",
        "\n",
        "In burden test, CWAS-Plus conducts association tests on eacy category."
      ]
    },
    {
      "cell_type": "markdown",
      "metadata": {
        "id": "ShXV6ov9GXaR"
      },
      "source": [
        "### Binomial test\n",
        "\n",
        "We will apply binomial testing to calculate significance."
      ]
    },
    {
      "cell_type": "code",
      "execution_count": null,
      "metadata": {
        "colab": {
          "base_uri": "https://localhost:8080/"
        },
        "id": "G1dQAa_zBnxg",
        "outputId": "8af5caa1-69e2-4c26-a330-fcf41a1ef4ff"
      },
      "outputs": [],
      "source": [
        "!cwas binomial_test -i cwas_output/de_novo_variants.categorization_result.zarr \\\n",
        "-o_dir cwas_output \\\n",
        "-s cwas-input-example/samples.txt \\\n",
        "-a cwas-input-example/adj_factors.txt"
      ]
    },
    {
      "cell_type": "markdown",
      "metadata": {
        "id": "JyxOBHwHIws_"
      },
      "source": [
        "**de_novo_variants.burden_test.txt** contains the burden test results. Here, we have the relative risk and p-value for each category.\n",
        "\n",
        "Relative risk>1 indicates that the category has risk of the disease phenotype."
      ]
    },
    {
      "cell_type": "code",
      "execution_count": null,
      "metadata": {
        "colab": {
          "base_uri": "https://localhost:8080/",
          "height": 225
        },
        "id": "22Vc0pz_InDt",
        "outputId": "b0601ba6-dc68-488b-f0e2-9537ec8b9a27"
      },
      "outputs": [],
      "source": [
        "# 'P' for two-sided binomial p-value\n",
        "# 'P_1side' for one-sided binomial p-value with alternative hypothesis 'greater.'\n",
        "burden_result = pd.read_table('cwas_output/de_novo_variants.burden_test.txt')\n",
        "burden_result.head(5)"
      ]
    },
    {
      "cell_type": "markdown",
      "metadata": {
        "id": "_ovL845tO7Hl"
      },
      "source": [
        "**de_novo_variants.category_counts.txt** contains the number of variants in each category. Unlike burden test results, this file has unadjusted counts."
      ]
    },
    {
      "cell_type": "code",
      "execution_count": null,
      "metadata": {
        "id": "n5xTYpxHO279"
      },
      "outputs": [],
      "source": [
        "counts = pd.read_table('cwas_output/de_novo_variants.category_counts.txt')\n",
        "counts.head(5)"
      ]
    },
    {
      "cell_type": "markdown",
      "metadata": {
        "id": "VbWE2Af0PUVz"
      },
      "source": [
        "**de_novo_variants.category_info.txt** contains the information of each category."
      ]
    },
    {
      "cell_type": "code",
      "execution_count": null,
      "metadata": {
        "id": "x3cFZfxJO5g8"
      },
      "outputs": [],
      "source": [
        "cat_info = pd.read_table('cwas_output/de_novo_variants.category_info.txt')\n",
        "cat_info.head(5)"
      ]
    },
    {
      "cell_type": "markdown",
      "metadata": {
        "id": "vKI9vkdCQOWz"
      },
      "source": [
        "The burden test results are also displayed in volcano plots."
      ]
    },
    {
      "cell_type": "code",
      "execution_count": null,
      "metadata": {
        "id": "br3Je-IuOZJE"
      },
      "outputs": [],
      "source": [
        "count_thres = 7\n",
        "print(f\"Volcano plot will display categories with at least {count_thres} counts\")\n",
        "\n",
        "selected_categories = counts.loc[counts['Raw_counts'] >= count_thres, 'Category']\n",
        "burden_result = burden_result[burden_result['Category'].isin(selected_categories)]\n",
        "\n",
        "burden_result['-log_P'] = -np.log10(burden_result['P'])\n",
        "burden_result['log2_RR'] = np.log2(burden_result['Relative_Risk'])\n",
        "\n",
        "max_rr = max(burden_result.loc[burden_result.log2_RR!=np.inf, 'log2_RR'])\n",
        "min_rr = min(burden_result.loc[burden_result.log2_RR!=-np.inf, 'log2_RR'])\n",
        "max_val = max(abs(max_rr),abs(min_rr))\n",
        "max_x = np.trunc(max_val) + 2"
      ]
    },
    {
      "cell_type": "code",
      "execution_count": null,
      "metadata": {
        "id": "thm51gitNuvU"
      },
      "outputs": [],
      "source": [
        "plt.figure(figsize=(8, 6))\n",
        "sns.scatterplot(x='log2_RR', y='-log_P', data=burden_result, s=5, color = 'grey')\n",
        "plt.axhline(y=-np.log10(0.05), color='r', linestyle='--', label='-log10(0.05)')\n",
        "plt.axvline(x=0, color='grey', linestyle='-')\n",
        "plt.xlabel('Relative risk (log2)')\n",
        "plt.ylabel('P (-log10)')\n",
        "plt.xlim(-(max_x), (max_x))\n",
        "plt.title('Burden test results')\n",
        "plt.legend()\n",
        "plt.show()\n"
      ]
    },
    {
      "cell_type": "code",
      "execution_count": null,
      "metadata": {},
      "outputs": [],
      "source": [
        "import numpy as np\n",
        "import matplotlib.pyplot as plt\n",
        "import seaborn as sns\n",
        "\n",
        "# Define threshold for category selection\n",
        "count_thres = 7\n",
        "print(f\"Volcano plot will display categories with at least {count_thres} counts\")\n",
        "\n",
        "# Filter categories\n",
        "selected_categories = counts.loc[counts['Raw_counts'] >= count_thres, 'Category']\n",
        "burden_result = burden_result[burden_result['Category'].isin(selected_categories)]\n",
        "\n",
        "# Merge with cat_info to get is_coding and is_noncoding\n",
        "burden_result = burden_result.merge(cat_info[['Category', 'is_coding', 'is_noncoding']], on='Category', how='left')\n",
        "\n",
        "# Compute log-transformed values\n",
        "burden_result['-log_P'] = -np.log10(burden_result['P'])\n",
        "burden_result['log2_RR'] = np.log2(burden_result['Relative_Risk'])\n",
        "\n",
        "# Compute Bonferroni correction\n",
        "total_tests = len(burden_result)\n",
        "bonferroni_cutoff = 0.05 / total_tests\n",
        "bonferroni_threshold = -np.log10(bonferroni_cutoff)\n",
        "\n",
        "# Define x-axis limits\n",
        "max_rr = max(burden_result.loc[burden_result.log2_RR != np.inf, 'log2_RR'])\n",
        "min_rr = min(burden_result.loc[burden_result.log2_RR != -np.inf, 'log2_RR'])\n",
        "max_val = max(abs(max_rr), abs(min_rr))\n",
        "max_x = np.trunc(max_val) + 2\n",
        "\n",
        "# Assign colors based on category type\n",
        "def assign_color(row):\n",
        "    if row['is_coding'] == 1:\n",
        "        return 'blue'  # Coding variants\n",
        "    elif row['is_noncoding'] == 1:\n",
        "        return 'red'  # Non-coding variants\n",
        "    else:\n",
        "        return 'grey'  # Other categories\n",
        "\n",
        "burden_result['color'] = burden_result.apply(assign_color, axis=1)\n",
        "\n",
        "# Create volcano plot\n",
        "plt.figure(figsize=(8, 6))\n",
        "sns.scatterplot(x='log2_RR', y='-log_P', data=burden_result, hue='color', palette={'blue': 'blue', 'red': 'red', 'grey': 'grey'}, s=5)\n",
        "\n",
        "# Add significance cutoffs\n",
        "plt.axhline(y=-np.log10(0.05), color='r', linestyle='--', label='-log10(0.05)')\n",
        "plt.axhline(y=bonferroni_threshold, color='blue', linestyle='--', label=f'Bonferroni ({total_tests} tests)')\n",
        "\n",
        "# Add vertical line at log2(RR) = 0\n",
        "plt.axvline(x=0, color='grey', linestyle='-')\n",
        "\n",
        "# Labels and title\n",
        "plt.xlabel('Relative risk (log2)')\n",
        "plt.ylabel('P (-log10)')\n",
        "plt.xlim(-max_x, max_x)\n",
        "plt.title('Burden test results')\n",
        "\n",
        "# Legend\n",
        "plt.legend(title=\"Category Type\", labels=[\"is_coding (blue)\", \"is_noncoding (red)\", \"Others (grey)\"])\n",
        "\n",
        "plt.show()\n"
      ]
    },
    {
      "cell_type": "markdown",
      "metadata": {
        "id": "qvVxiPpFnBLK"
      },
      "source": [
        "### Permutation test\n",
        "We can also conduct permutations to obtain p-values. In each permutation, CWAS-Plus randomly assigns phenotypes to samples.\n",
        "\n",
        "The outputs are used in burden shift analysis and DAWN analysis."
      ]
    },
    {
      "cell_type": "code",
      "execution_count": null,
      "metadata": {
        "id": "u0JIBbl96LFG"
      },
      "outputs": [],
      "source": [
        "# Specify the number of permutations with '-n' option. For quick run, we used 15 permutations. We recommend 10,000 in real analyses.\n",
        "!cwas permutation_test -i cwas_output/de_novo_variants.categorization_result.zarr \\\n",
        "-o_dir cwas_output \\\n",
        "-s cwas-input-example/samples.txt \\\n",
        "-a cwas-input-example/adj_factors.txt \\\n",
        "-n 10 \\\n",
        "-b \\\n",
        "-p 1"
      ]
    },
    {
      "cell_type": "markdown",
      "metadata": {
        "id": "4fqRAACmU9-q"
      },
      "source": [
        "The output contains the p-value calculated by comparing the binomial p-value with the p-values from permutations. This will be used in DAWN analysis."
      ]
    },
    {
      "cell_type": "code",
      "execution_count": null,
      "metadata": {
        "id": "2wmec3GDU3IS"
      },
      "outputs": [],
      "source": [
        "permute_results = pd.read_table('cwas_output/de_novo_variants.permutation_test.txt.gz')\n",
        "permute_results.head(5)"
      ]
    },
    {
      "cell_type": "markdown",
      "metadata": {
        "id": "aEUq_huMVZ26"
      },
      "source": [
        "Binomial p-values from each permutation are saved in `de_novo_variants.binom_pvals.txt.gz`. This will be used in burden shift analysis."
      ]
    },
    {
      "cell_type": "code",
      "execution_count": null,
      "metadata": {
        "id": "ceA_ANl_VOrS"
      },
      "outputs": [],
      "source": [
        "# This file is saved with 'This file is saved with '-b' option.\n",
        "binom_pvals = pl.read_csv('cwas_output/de_novo_variants.binom_pvals.txt.gz', separator = '\\t')\n",
        "binom_pvals[0:5,0:5]"
      ]
    },
    {
      "cell_type": "markdown",
      "metadata": {
        "id": "D_WkRxEaGj3F"
      },
      "source": [
        "## Risk score analysis\n",
        "\n",
        "In risk score analysis, we will identify categories that can predict the disease phenotype.\n",
        "\n",
        "Specifically, CWAS-Plus trains a *Lasso regression model* and find categories that contribute to the prediction. We will use 80% of samples as training set and the remaining samples as test set."
      ]
    },
    {
      "cell_type": "markdown",
      "metadata": {},
      "source": [
        "#### Install glmnet package in R"
      ]
    },
    {
      "cell_type": "code",
      "execution_count": null,
      "metadata": {},
      "outputs": [],
      "source": [
        "!cwas risk_score --help"
      ]
    },
    {
      "cell_type": "code",
      "execution_count": null,
      "metadata": {
        "colab": {
          "base_uri": "https://localhost:8080/"
        },
        "id": "4gnDcexVCysu",
        "outputId": "fe6746a7-9ce8-4ee7-c2b1-4e74d8f9f1e9"
      },
      "outputs": [],
      "source": [
        "# Specify the number of permutations with '-n' option. For quick run, we used 10. We recommend doing at least 1,000 permutations in real analysis.\n",
        "# Specify the number of regressions with '-n_reg' option.\n",
        "!cwas risk_score -i cwas_output/de_novo_variants.categorization_result.zarr \\\n",
        "-o_dir cwas_output \\\n",
        "-s cwas-input-example/samples.txt \\\n",
        "-a cwas-input-example/adj_factors.txt \\\n",
        "--domain_list noncoding \\\n",
        "-c cwas_output/de_novo_variants.category_info.txt \\\n",
        "-thr 3 \\\n",
        "-tf 0.8 \\\n",
        "-n_reg 10 \\\n",
        "-f 5 \\\n",
        "-n 10 \\\n",
        "-p 2"
      ]
    },
    {
      "cell_type": "markdown",
      "metadata": {
        "id": "FrD__R7vchjK"
      },
      "source": [
        "In the results, the first row represents the average R2 of five regressions. The p-value (`perm_P`) is calculated using this average R2.\n",
        "\n",
        "The remaining rows represent R2s from each regression."
      ]
    },
    {
      "cell_type": "code",
      "execution_count": null,
      "metadata": {
        "colab": {
          "base_uri": "https://localhost:8080/"
        },
        "id": "uvWPBH3DB3_a",
        "outputId": "d483cad1-b2d8-4d4c-ae79-57ed7399da9f"
      },
      "outputs": [],
      "source": [
        "%cd cwas_output\n",
        "!ls -lhtr"
      ]
    },
    {
      "cell_type": "code",
      "execution_count": null,
      "metadata": {
        "colab": {
          "base_uri": "https://localhost:8080/"
        },
        "id": "6RLS8mNOcSq5",
        "outputId": "6c3d871c-9780-465b-ac13-2e3ee3d228b7"
      },
      "outputs": [],
      "source": [
        "os.chdir(os.environ['HOME'])\n",
        "# 'N_select' indicates the number of categories that contribute to phenotype prediction.\n",
        "risk_score_result = pd.read_table('cwas_output/de_novo_variants.lasso_results_thres_3.noncoding.txt')\n",
        "risk_score_result"
      ]
    },
    {
      "cell_type": "markdown",
      "metadata": {
        "id": "3_dDiz_yegKB"
      },
      "source": [
        "**de_novo_variants.lasso_coef_thres_3.txt** contains categories that contribute to the phenotype prediction. Values in each row indicate the coefficient regression models. Positive large coefficient means strong positive effect on the phenotype prediction when the number of variants increases."
      ]
    },
    {
      "cell_type": "code",
      "execution_count": null,
      "metadata": {
        "colab": {
          "base_uri": "https://localhost:8080/",
          "height": 363
        },
        "id": "GkvqlcxPdfYo",
        "outputId": "1a00ee27-2f6b-4a9d-f9b9-5c38582b5b7a"
      },
      "outputs": [],
      "source": [
        "risk_score_cat = pd.read_table('cwas_output/de_novo_variants.lasso_coef_thres_3.noncoding.txt')\n",
        "risk_score_cat"
      ]
    },
    {
      "cell_type": "markdown",
      "metadata": {
        "id": "oW4cG0qhgT4x"
      },
      "source": [
        "Let's look what kind of categories contribute to the prediction."
      ]
    },
    {
      "cell_type": "code",
      "execution_count": null,
      "metadata": {
        "id": "XGkEvT8Fgi84"
      },
      "outputs": [],
      "source": [
        "filt_cats = risk_score_cat.columns[1:].tolist()\n",
        "risk_cat_info = cat_info[cat_info['Category'].isin(filt_cats)]\n",
        "risk_cat_info = risk_cat_info[risk_cat_info['is_noncoding']==1]"
      ]
    },
    {
      "cell_type": "markdown",
      "metadata": {
        "id": "MtVFH633hhZg"
      },
      "source": [
        "Categories with EncodeTFBS account for some proportion in noncoding categories that contribute to the prediction."
      ]
    },
    {
      "cell_type": "code",
      "execution_count": null,
      "metadata": {
        "colab": {
          "base_uri": "https://localhost:8080/"
        },
        "id": "7nK3iXDXdY3I",
        "outputId": "4c1ac680-802a-448c-8637-f01e8da54ef5"
      },
      "outputs": [],
      "source": [
        "risk_cat_info['functional_annotation'].value_counts()"
      ]
    },
    {
      "cell_type": "markdown",
      "metadata": {
        "id": "NzamnIk9H7M7"
      },
      "source": [
        "## Burden shift analysis\n",
        "\n",
        "In burden shift analysis, we will find domains that are enriched in cases. CWAS-Plus tests enrichment in a single domain and combinations of two domains. From the results, we can find which domains are candidates of containing risk."
      ]
    },
    {
      "cell_type": "code",
      "execution_count": null,
      "metadata": {
        "colab": {
          "base_uri": "https://localhost:8080/"
        },
        "id": "L5j5KrVTC1PR",
        "outputId": "b5d05935-12ad-4fa9-8008-a3e7d770ad35"
      },
      "outputs": [],
      "source": [
        "!cwas burden_shift -i cwas_output/de_novo_variants.burden_test.txt \\\n",
        "-b cwas_output/de_novo_variants.binom_pvals.txt.gz \\\n",
        "-o_dir cwas_output \\\n",
        "-c_info cwas_output/de_novo_variants.category_info.txt \\\n",
        "-c_count cwas_output/de_novo_variants.category_counts.txt \\\n",
        "-c_cutoff 7 \\\n",
        "--pval 0.05 \\\n",
        "-t test"
      ]
    },
    {
      "cell_type": "markdown",
      "metadata": {
        "id": "p_WkRpR1kUdq"
      },
      "source": [
        "Explore the result plots generated as outputs."
      ]
    },
    {
      "cell_type": "code",
      "execution_count": null,
      "metadata": {
        "colab": {
          "base_uri": "https://localhost:8080/",
          "height": 424
        },
        "id": "gtbFMVDbkXIb",
        "outputId": "cbd3b218-001f-40db-b890-d1313c28e672"
      },
      "outputs": [],
      "source": [
        "burdenshift = pd.read_table('cwas_output/de_novo_variants.burdenshift_p0.05_cutoff7.test.txt')\n",
        "burdenshift = burdenshift[burdenshift['P_case']<0.05]\n",
        "burdenshift = burdenshift[burdenshift['N_cats_case']>=10]\n",
        "burdenshift.sort_values(by=['P_case', 'N_cats_case'])"
      ]
    },
    {
      "cell_type": "markdown",
      "metadata": {
        "id": "RUaPtOgtmqfw"
      },
      "source": [
        "Categories with EncodeTFBS shows high enrichment in cases. This can be a candidate domain associated to ASD risk."
      ]
    },
    {
      "cell_type": "code",
      "execution_count": null,
      "metadata": {
        "colab": {
          "base_uri": "https://localhost:8080/",
          "height": 269
        },
        "id": "KKXVG-rumHhX",
        "outputId": "3a615820-6acb-4c2f-ef30-a0c5682cae6b"
      },
      "outputs": [],
      "source": [
        "subset_df = burdenshift[burdenshift['Category_set'].str.contains('CHD8Common', case=False)]\n",
        "subset_df"
      ]
    },
    {
      "cell_type": "markdown",
      "metadata": {
        "id": "VvU2nA-OL7ib"
      },
      "source": [
        "## Find the number of effective tests\n",
        "\n",
        "CWAS-Plus provides a unique method to assess the noncoding association. With calculating the number of effective tests, users can identify accurate noncoding associations with multiple comparisons.\n",
        "\n",
        "To find the number of effective tests, we will use the correlation values between categories and count the number of leading eigenvalues that account for more than 99% of the total variations.\n",
        "\n",
        "As calculating correlation values take time, we will load the data for quick run."
      ]
    },
    {
      "cell_type": "markdown",
      "metadata": {
        "id": "6agXur-PnKE6"
      },
      "source": [
        "Find the number of effective tests from the correlation values."
      ]
    },
    {
      "cell_type": "code",
      "execution_count": null,
      "metadata": {},
      "outputs": [],
      "source": [
        "!cwas correlation -i cwas_output/de_novo_variants.categorization_result.zarr \\\n",
        "-v cwas_output/de_novo_variants.annotated.vcf.gz \\\n",
        "-o_dir cwas_output \\\n",
        "-c_info cwas_output/de_novo_variants.category_info.txt \\\n",
        "-p 8 -cm variant -im"
      ]
    },
    {
      "cell_type": "code",
      "execution_count": null,
      "metadata": {
        "colab": {
          "base_uri": "https://localhost:8080/"
        },
        "id": "Xhyoamg7Mpm0",
        "outputId": "13807e0f-19c5-4560-ae10-0e7e2d0236d0"
      },
      "outputs": [],
      "source": [
        "!cwas effective_num_test -i cwas_output/de_novo_variants.correlation_matrix.zarr \\\n",
        "-o_dir cwas_output \\\n",
        "-ef -thr 8 -if corr -n 10000 \\\n",
        "-c_count cwas_output/de_novo_variants.category_counts.txt"
      ]
    },
    {
      "cell_type": "markdown",
      "metadata": {
        "id": "IoRyy_DVqdqQ"
      },
      "source": [
        "The number of effective tests is **2,665**."
      ]
    },
    {
      "cell_type": "markdown",
      "metadata": {
        "id": "N4lZFTdI2DkJ"
      },
      "source": [
        "## DAWN analysis\n",
        "In DAWN analysis, we will find novel risk domains and investigate subnetworks of risk domains within categories of risk domain.\n",
        "\n",
        "First, we will generate inputs (eigen vectors) for DAWN analysis from correlation values bewteen categories. We will only use noncoding categories of EncodeTFBS domain."
      ]
    },
    {
      "cell_type": "code",
      "execution_count": null,
      "metadata": {
        "colab": {
          "base_uri": "https://localhost:8080/",
          "height": 444
        },
        "id": "tsJBOcmDqns5",
        "outputId": "8572d5d8-1697-49b6-c683-90b931803e99"
      },
      "outputs": [],
      "source": [
        "# Filter noncoding categories within EncodeTFBS region.\n",
        "cat_info = pd.read_table('cwas_output/de_novo_variants.category_info.txt')\n",
        "counts = pd.read_table('cwas_output/de_novo_variants.category_counts.txt')\n",
        "cat_info = cat_info[cat_info['Category'].isin(counts[counts['Raw_counts']>=8]['Category'])]\n",
        "cat_info = cat_info[cat_info['is_noncoding']==1]\n",
        "cat_info = cat_info[cat_info['gene_set']=='LOEUF37']\n",
        "cat_info.to_csv('cwas_output/de_novo_variants.subset_categories.txt', sep='\\t', index=False)\n",
        "cat_info"
      ]
    },
    {
      "cell_type": "code",
      "execution_count": null,
      "metadata": {
        "colab": {
          "base_uri": "https://localhost:8080/"
        },
        "id": "2ez_dR7UMwUq",
        "outputId": "0efdd2b6-b6a0-4889-f9e8-6358df4550a1"
      },
      "outputs": [],
      "source": [
        "!cwas effective_num_test -i cwas_output/de_novo_variants.correlation_matrix.zarr \\\n",
        "-o_dir cwas_output -if corr -n 10000 \\\n",
        "-thr 8 \\\n",
        "-t CHD8 \\\n",
        "-c_set cwas_output/de_novo_variants.subset_categories.txt \\\n",
        "-c_count cwas_output/de_novo_variants.category_counts.txt"
      ]
    },
    {
      "cell_type": "markdown",
      "metadata": {
        "id": "HjOs7otv3akR"
      },
      "source": [
        "Then, with the generated inputs, we can construct a network of these categories and assess the disease association of them."
      ]
    },
    {
      "cell_type": "code",
      "execution_count": null,
      "metadata": {
        "colab": {
          "base_uri": "https://localhost:8080/"
        },
        "id": "lBgs9Q4J2LqQ",
        "outputId": "4e165099-5c6d-4416-ac49-7924b9aba671"
      },
      "outputs": [],
      "source": [
        "!cwas dawn -e cwas_output/de_novo_variants.eig_vecs.CHD8.zarr \\\n",
        "-c cwas_output/de_novo_variants.correlation_matrix.zarr \\\n",
        "-P cwas_output/de_novo_variants.permutation_test.txt.gz \\\n",
        "-o_dir cwas_output \\\n",
        "-r 2,100 \\\n",
        "-s 2025 \\\n",
        "-t TFBS.exact \\\n",
        "-T exact \\\n",
        "-c_count cwas_output/de_novo_variants.category_counts.txt \\\n",
        "-C 20 \\\n",
        "-R 0.12 \\\n",
        "-S 2 \\\n",
        "-p 2"
      ]
    },
    {
      "cell_type": "markdown",
      "metadata": {
        "id": "DD7C6ntX8d2A"
      },
      "source": [
        "Check the generated plot and explore which clsuters are connected and show disease association."
      ]
    },
    {
      "cell_type": "code",
      "execution_count": null,
      "metadata": {
        "colab": {
          "base_uri": "https://localhost:8080/",
          "height": 424
        },
        "id": "_EEc-UuuCBnH",
        "outputId": "597f10af-dbd1-4a8d-b5b4-7a4ed77da4ef"
      },
      "outputs": [],
      "source": [
        "# 'Pval.cluster' indicates the p-value of a cluster.\n",
        "# 'Risk' indicates the relative risk of a cluster. Risk>1 means that the cluster has disease association.\n",
        "dawn_result = pd.read_csv('cwas_output/TFBS.exact.ipvalue_fdr_ipvalue_risk.csv')\n",
        "dawn_result.sort_values(by=['Pval.cluster'])"
      ]
    },
    {
      "cell_type": "markdown",
      "metadata": {
        "id": "J1aUZzQlIguH"
      },
      "source": [
        "Check which categories are included in the cluster with risk. For example, cluster 81 can be represented as intergenic cluster. The results inducate that intergenic variants carry risk within network of EncodeTFBS domain."
      ]
    },
    {
      "cell_type": "code",
      "execution_count": null,
      "metadata": {
        "colab": {
          "base_uri": "https://localhost:8080/"
        },
        "id": "6AJ1-XALHyJm",
        "outputId": "0f1fa4c1-51c5-4cfd-a423-da86e2b9d236"
      },
      "outputs": [],
      "source": [
        "cluster_info = pd.read_csv('cwas_output/TFBS.exact.cluster_annotation.csv')\n",
        "cluster_info['81']"
      ]
    }
  ],
  "metadata": {
    "colab": {
      "provenance": []
    },
    "kernelspec": {
      "display_name": "test",
      "language": "python",
      "name": "python3"
    },
    "language_info": {
      "codemirror_mode": {
        "name": "ipython",
        "version": 3
      },
      "file_extension": ".py",
      "mimetype": "text/x-python",
      "name": "python",
      "nbconvert_exporter": "python",
      "pygments_lexer": "ipython3",
      "version": "3.10.16"
    }
  },
  "nbformat": 4,
  "nbformat_minor": 0
}
